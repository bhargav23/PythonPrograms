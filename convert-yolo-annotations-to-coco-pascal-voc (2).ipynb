{
 "cells": [
  {
   "cell_type": "code",
   "execution_count": 9,
   "metadata": {},
   "outputs": [],
   "source": [
    "import json\n",
    "import os\n",
    "from PIL import Image\n",
    "import pandas as pd\n",
    "output_dir = '/home/jupyter-vit_cse_bhargava/plastic-bottles-image-dataset/'\n",
    "\n",
    "#['filename','width','height','class','xmin','ymin','xmax','ymax','classno']"
   ]
  },
  {
   "cell_type": "code",
   "execution_count": 10,
   "metadata": {},
   "outputs": [],
   "source": [
    "def yolo_to_csv(input_dir,label_dir):\n",
    "    dataset = []\n",
    "    for image_file in os.listdir(input_dir):\n",
    "        # Load the image and get its dimensions\n",
    "        image_path = os.path.join(input_dir, image_file)\n",
    "        image = Image.open(image_path)\n",
    "        width, height = image.size\n",
    "        with open(os.path.join(label_dir, f'{image_file.split(\".\")[0]}.txt')) as f:\n",
    "                    annotations = f.readlines()\n",
    "        class1 = 'bottle'\n",
    "        classno = 0 \n",
    "        for ann in annotations:\n",
    "            x_center, y_center, w, h = map(float, ann.strip().split()[1:5])\n",
    "            label = [x_center, y_center, w, h]\n",
    "\n",
    "            x_center = label[0] * width      # convert x coordinate to pixel units\n",
    "            y_center = label[1] * height      # convert y coordinate to pixel units\n",
    "            w = label[2] * width             # convert width to pixel units\n",
    "            h = label[3] * height             # convert height to pixel units\n",
    "\n",
    "            xmin = int(x_center - w/2)   # calculate xmin\n",
    "            ymin = int(y_center - h/2)   # calculate ymin\n",
    "            xmax = int(x_center + w/2)   # calculate xmax\n",
    "            ymax = int(y_center + h/2)   # calculate ymax\n",
    "            #x_min, y_min = int((x - w / 2) * width), int((y - h / 2) * height)\n",
    "            #x_max, y_max = int((x + w / 2) * width), int((y + h / 2) * height)\n",
    "            #xmin = x_min\n",
    "            #ymin = y_min\n",
    "            #xmax =  x_max - x_min\n",
    "            #ymax =  y_max - y_min\n",
    "            dataset.append([image_file,int(width),int(height),class1,xmin,ymin,xmax,ymax,int(classno)])\n",
    "    df = pd.DataFrame(dataset,columns =['filename','width','height','class','xmin','ymin','xmax','ymax','classno'])\n",
    "    return df"
   ]
  },
  {
   "cell_type": "markdown",
   "metadata": {},
   "source": [
    "label = [x_center, y_center, w, h]\n",
    "\n",
    "x_center = label[0] * W      # convert x coordinate to pixel units\n",
    "y_center = label[1] * H      # convert y coordinate to pixel units\n",
    "w = label[2] * W             # convert width to pixel units\n",
    "h = label[3] * H             # convert height to pixel units\n",
    "\n",
    "xmin = int(x_center - w/2)   # calculate xmin\n",
    "ymin = int(y_center - h/2)   # calculate ymin\n",
    "xmax = int(x_center + w/2)   # calculate xmax\n",
    "ymax = int(y_center + h/2)   # calculate ymax\n"
   ]
  },
  {
   "cell_type": "code",
   "execution_count": 11,
   "metadata": {},
   "outputs": [],
   "source": [
    "test_img_dir = '/home/jupyter-vit_cse_bhargava/plastic-bottles-image-dataset/pbid/test/images/'\n",
    "test_label_dir = '/home/jupyter-vit_cse_bhargava/plastic-bottles-image-dataset/pbid/test/labels/'"
   ]
  },
  {
   "cell_type": "code",
   "execution_count": 12,
   "metadata": {},
   "outputs": [],
   "source": [
    "testdf = yolo_to_csv(test_img_dir,test_label_dir)"
   ]
  },
  {
   "cell_type": "code",
   "execution_count": 13,
   "metadata": {},
   "outputs": [],
   "source": [
    "train_img_dir = '/home/jupyter-vit_cse_bhargava/plastic-bottles-image-dataset/pbid/train/images/'\n",
    "train_label_dir= '/home/jupyter-vit_cse_bhargava/plastic-bottles-image-dataset/pbid/train/labels/'"
   ]
  },
  {
   "cell_type": "code",
   "execution_count": 14,
   "metadata": {},
   "outputs": [],
   "source": [
    "traindf = yolo_to_csv(train_img_dir,train_label_dir)"
   ]
  },
  {
   "cell_type": "code",
   "execution_count": 15,
   "metadata": {},
   "outputs": [
    {
     "data": {
      "text/html": [
       "<div>\n",
       "<style scoped>\n",
       "    .dataframe tbody tr th:only-of-type {\n",
       "        vertical-align: middle;\n",
       "    }\n",
       "\n",
       "    .dataframe tbody tr th {\n",
       "        vertical-align: top;\n",
       "    }\n",
       "\n",
       "    .dataframe thead th {\n",
       "        text-align: right;\n",
       "    }\n",
       "</style>\n",
       "<table border=\"1\" class=\"dataframe\">\n",
       "  <thead>\n",
       "    <tr style=\"text-align: right;\">\n",
       "      <th></th>\n",
       "      <th>filename</th>\n",
       "      <th>width</th>\n",
       "      <th>height</th>\n",
       "      <th>class</th>\n",
       "      <th>xmin</th>\n",
       "      <th>ymin</th>\n",
       "      <th>xmax</th>\n",
       "      <th>ymax</th>\n",
       "      <th>classno</th>\n",
       "    </tr>\n",
       "  </thead>\n",
       "  <tbody>\n",
       "    <tr>\n",
       "      <th>0</th>\n",
       "      <td>train000325.jpg</td>\n",
       "      <td>416</td>\n",
       "      <td>416</td>\n",
       "      <td>bottle</td>\n",
       "      <td>78</td>\n",
       "      <td>54</td>\n",
       "      <td>221</td>\n",
       "      <td>366</td>\n",
       "      <td>0</td>\n",
       "    </tr>\n",
       "    <tr>\n",
       "      <th>1</th>\n",
       "      <td>train000325.jpg</td>\n",
       "      <td>416</td>\n",
       "      <td>416</td>\n",
       "      <td>bottle</td>\n",
       "      <td>233</td>\n",
       "      <td>123</td>\n",
       "      <td>340</td>\n",
       "      <td>371</td>\n",
       "      <td>0</td>\n",
       "    </tr>\n",
       "    <tr>\n",
       "      <th>2</th>\n",
       "      <td>train002090.jpg</td>\n",
       "      <td>225</td>\n",
       "      <td>225</td>\n",
       "      <td>bottle</td>\n",
       "      <td>81</td>\n",
       "      <td>-78</td>\n",
       "      <td>144</td>\n",
       "      <td>120</td>\n",
       "      <td>0</td>\n",
       "    </tr>\n",
       "    <tr>\n",
       "      <th>3</th>\n",
       "      <td>train001060.jpg</td>\n",
       "      <td>416</td>\n",
       "      <td>416</td>\n",
       "      <td>bottle</td>\n",
       "      <td>182</td>\n",
       "      <td>83</td>\n",
       "      <td>257</td>\n",
       "      <td>415</td>\n",
       "      <td>0</td>\n",
       "    </tr>\n",
       "    <tr>\n",
       "      <th>4</th>\n",
       "      <td>train000123.jpg</td>\n",
       "      <td>416</td>\n",
       "      <td>416</td>\n",
       "      <td>bottle</td>\n",
       "      <td>101</td>\n",
       "      <td>-24</td>\n",
       "      <td>325</td>\n",
       "      <td>59</td>\n",
       "      <td>0</td>\n",
       "    </tr>\n",
       "  </tbody>\n",
       "</table>\n",
       "</div>"
      ],
      "text/plain": [
       "          filename  width  height   class  xmin  ymin  xmax  ymax  classno\n",
       "0  train000325.jpg    416     416  bottle    78    54   221   366        0\n",
       "1  train000325.jpg    416     416  bottle   233   123   340   371        0\n",
       "2  train002090.jpg    225     225  bottle    81   -78   144   120        0\n",
       "3  train001060.jpg    416     416  bottle   182    83   257   415        0\n",
       "4  train000123.jpg    416     416  bottle   101   -24   325    59        0"
      ]
     },
     "execution_count": 15,
     "metadata": {},
     "output_type": "execute_result"
    }
   ],
   "source": [
    "traindf.head()"
   ]
  },
  {
   "cell_type": "code",
   "execution_count": 16,
   "metadata": {},
   "outputs": [],
   "source": [
    "valid_img_dir = '/home/jupyter-vit_cse_bhargava/plastic-bottles-image-dataset/pbid/valid/images/'\n",
    "valid_label_dir = '/home/jupyter-vit_cse_bhargava/plastic-bottles-image-dataset/pbid/valid/labels/'"
   ]
  },
  {
   "cell_type": "code",
   "execution_count": 17,
   "metadata": {},
   "outputs": [],
   "source": [
    "validdf = yolo_to_csv(valid_img_dir,valid_label_dir)"
   ]
  },
  {
   "cell_type": "code",
   "execution_count": 18,
   "metadata": {},
   "outputs": [],
   "source": [
    "traindf.to_csv(output_dir+'train.csv')"
   ]
  },
  {
   "cell_type": "code",
   "execution_count": 19,
   "metadata": {},
   "outputs": [],
   "source": [
    "testdf.to_csv(output_dir+'test.csv')"
   ]
  },
  {
   "cell_type": "code",
   "execution_count": 20,
   "metadata": {},
   "outputs": [],
   "source": [
    "validdf.to_csv(output_dir+'valid.csv')"
   ]
  },
  {
   "cell_type": "code",
   "execution_count": 21,
   "metadata": {},
   "outputs": [
    {
     "data": {
      "text/html": [
       "<div>\n",
       "<style scoped>\n",
       "    .dataframe tbody tr th:only-of-type {\n",
       "        vertical-align: middle;\n",
       "    }\n",
       "\n",
       "    .dataframe tbody tr th {\n",
       "        vertical-align: top;\n",
       "    }\n",
       "\n",
       "    .dataframe thead th {\n",
       "        text-align: right;\n",
       "    }\n",
       "</style>\n",
       "<table border=\"1\" class=\"dataframe\">\n",
       "  <thead>\n",
       "    <tr style=\"text-align: right;\">\n",
       "      <th></th>\n",
       "      <th>filename</th>\n",
       "      <th>width</th>\n",
       "      <th>height</th>\n",
       "      <th>class</th>\n",
       "      <th>xmin</th>\n",
       "      <th>ymin</th>\n",
       "      <th>xmax</th>\n",
       "      <th>ymax</th>\n",
       "      <th>classno</th>\n",
       "    </tr>\n",
       "  </thead>\n",
       "  <tbody>\n",
       "    <tr>\n",
       "      <th>0</th>\n",
       "      <td>train000325.jpg</td>\n",
       "      <td>416</td>\n",
       "      <td>416</td>\n",
       "      <td>bottle</td>\n",
       "      <td>78</td>\n",
       "      <td>54</td>\n",
       "      <td>221</td>\n",
       "      <td>366</td>\n",
       "      <td>0</td>\n",
       "    </tr>\n",
       "    <tr>\n",
       "      <th>1</th>\n",
       "      <td>train000325.jpg</td>\n",
       "      <td>416</td>\n",
       "      <td>416</td>\n",
       "      <td>bottle</td>\n",
       "      <td>233</td>\n",
       "      <td>123</td>\n",
       "      <td>340</td>\n",
       "      <td>371</td>\n",
       "      <td>0</td>\n",
       "    </tr>\n",
       "    <tr>\n",
       "      <th>2</th>\n",
       "      <td>train002090.jpg</td>\n",
       "      <td>225</td>\n",
       "      <td>225</td>\n",
       "      <td>bottle</td>\n",
       "      <td>81</td>\n",
       "      <td>-78</td>\n",
       "      <td>144</td>\n",
       "      <td>120</td>\n",
       "      <td>0</td>\n",
       "    </tr>\n",
       "    <tr>\n",
       "      <th>3</th>\n",
       "      <td>train001060.jpg</td>\n",
       "      <td>416</td>\n",
       "      <td>416</td>\n",
       "      <td>bottle</td>\n",
       "      <td>182</td>\n",
       "      <td>83</td>\n",
       "      <td>257</td>\n",
       "      <td>415</td>\n",
       "      <td>0</td>\n",
       "    </tr>\n",
       "    <tr>\n",
       "      <th>4</th>\n",
       "      <td>train000123.jpg</td>\n",
       "      <td>416</td>\n",
       "      <td>416</td>\n",
       "      <td>bottle</td>\n",
       "      <td>101</td>\n",
       "      <td>-24</td>\n",
       "      <td>325</td>\n",
       "      <td>59</td>\n",
       "      <td>0</td>\n",
       "    </tr>\n",
       "  </tbody>\n",
       "</table>\n",
       "</div>"
      ],
      "text/plain": [
       "          filename  width  height   class  xmin  ymin  xmax  ymax  classno\n",
       "0  train000325.jpg    416     416  bottle    78    54   221   366        0\n",
       "1  train000325.jpg    416     416  bottle   233   123   340   371        0\n",
       "2  train002090.jpg    225     225  bottle    81   -78   144   120        0\n",
       "3  train001060.jpg    416     416  bottle   182    83   257   415        0\n",
       "4  train000123.jpg    416     416  bottle   101   -24   325    59        0"
      ]
     },
     "execution_count": 21,
     "metadata": {},
     "output_type": "execute_result"
    }
   ],
   "source": [
    "traindf.head()"
   ]
  },
  {
   "cell_type": "code",
   "execution_count": 22,
   "metadata": {},
   "outputs": [
    {
     "name": "stdout",
     "output_type": "stream",
     "text": [
      "<class 'pandas.core.frame.DataFrame'>\n",
      "RangeIndex: 3186 entries, 0 to 3185\n",
      "Data columns (total 9 columns):\n",
      " #   Column    Non-Null Count  Dtype \n",
      "---  ------    --------------  ----- \n",
      " 0   filename  3186 non-null   object\n",
      " 1   width     3186 non-null   int64 \n",
      " 2   height    3186 non-null   int64 \n",
      " 3   class     3186 non-null   object\n",
      " 4   xmin      3186 non-null   int64 \n",
      " 5   ymin      3186 non-null   int64 \n",
      " 6   xmax      3186 non-null   int64 \n",
      " 7   ymax      3186 non-null   int64 \n",
      " 8   classno   3186 non-null   int64 \n",
      "dtypes: int64(7), object(2)\n",
      "memory usage: 224.1+ KB\n"
     ]
    }
   ],
   "source": [
    "traindf.info()"
   ]
  },
  {
   "cell_type": "code",
   "execution_count": 23,
   "metadata": {},
   "outputs": [
    {
     "name": "stdout",
     "output_type": "stream",
     "text": [
      "2023-04-20 16:36:52.687944: I tensorflow/core/platform/cpu_feature_guard.cc:193] This TensorFlow binary is optimized with oneAPI Deep Neural Network Library (oneDNN) to use the following CPU instructions in performance-critical operations:  AVX2 AVX512F FMA\n",
      "To enable them in other operations, rebuild TensorFlow with the appropriate compiler flags.\n",
      "2023-04-20 16:36:53.707776: W tensorflow/compiler/xla/stream_executor/platform/default/dso_loader.cc:64] Could not load dynamic library 'libnvinfer.so.7'; dlerror: libnvinfer.so.7: cannot open shared object file: No such file or directory\n",
      "2023-04-20 16:36:53.707865: W tensorflow/compiler/xla/stream_executor/platform/default/dso_loader.cc:64] Could not load dynamic library 'libnvinfer_plugin.so.7'; dlerror: libnvinfer_plugin.so.7: cannot open shared object file: No such file or directory\n",
      "2023-04-20 16:36:53.707893: W tensorflow/compiler/tf2tensorrt/utils/py_utils.cc:38] TF-TRT Warning: Cannot dlopen some TensorRT libraries. If you would like to use Nvidia GPU with TensorRT, please make sure the missing libraries mentioned above are installed properly.\n",
      "2023-04-20 16:36:54.566321: W tensorflow/compiler/xla/stream_executor/platform/default/dso_loader.cc:64] Could not load dynamic library 'libcudnn.so.8'; dlerror: libcudnn.so.8: cannot open shared object file: No such file or directory\n",
      "2023-04-20 16:36:54.566368: W tensorflow/core/common_runtime/gpu/gpu_device.cc:1934] Cannot dlopen some GPU libraries. Please make sure the missing libraries mentioned above are installed properly if you would like to use GPU. Follow the guide at https://www.tensorflow.org/install/gpu for how to download and setup the required libraries for your platform.\n",
      "Skipping registering GPU devices...\n",
      "Successfully created the TFRecords: /home/jupyter-vit_cse_bhargava/plastic-bottles-image-dataset/train.record\n"
     ]
    }
   ],
   "source": [
    "!python /home/jupyter-vit_cse_bhargava/plastic-bottles-image-dataset/1.py \\\n",
    "    --csv_input=/home/jupyter-vit_cse_bhargava/plastic-bottles-image-dataset/train.csv \\\n",
    "    --image_dir=/home/jupyter-vit_cse_bhargava/plastic-bottles-image-dataset/pbid/train/images/ \\\n",
    "    --output_path=/home/jupyter-vit_cse_bhargava/plastic-bottles-image-dataset/train.record"
   ]
  },
  {
   "cell_type": "code",
   "execution_count": 24,
   "metadata": {},
   "outputs": [
    {
     "name": "stdout",
     "output_type": "stream",
     "text": [
      "2023-04-20 16:36:58.343625: I tensorflow/core/platform/cpu_feature_guard.cc:193] This TensorFlow binary is optimized with oneAPI Deep Neural Network Library (oneDNN) to use the following CPU instructions in performance-critical operations:  AVX2 AVX512F FMA\n",
      "To enable them in other operations, rebuild TensorFlow with the appropriate compiler flags.\n",
      "2023-04-20 16:36:59.317245: W tensorflow/compiler/xla/stream_executor/platform/default/dso_loader.cc:64] Could not load dynamic library 'libnvinfer.so.7'; dlerror: libnvinfer.so.7: cannot open shared object file: No such file or directory\n",
      "2023-04-20 16:36:59.317346: W tensorflow/compiler/xla/stream_executor/platform/default/dso_loader.cc:64] Could not load dynamic library 'libnvinfer_plugin.so.7'; dlerror: libnvinfer_plugin.so.7: cannot open shared object file: No such file or directory\n",
      "2023-04-20 16:36:59.317358: W tensorflow/compiler/tf2tensorrt/utils/py_utils.cc:38] TF-TRT Warning: Cannot dlopen some TensorRT libraries. If you would like to use Nvidia GPU with TensorRT, please make sure the missing libraries mentioned above are installed properly.\n",
      "2023-04-20 16:37:00.176725: W tensorflow/compiler/xla/stream_executor/platform/default/dso_loader.cc:64] Could not load dynamic library 'libcudnn.so.8'; dlerror: libcudnn.so.8: cannot open shared object file: No such file or directory\n",
      "2023-04-20 16:37:00.176769: W tensorflow/core/common_runtime/gpu/gpu_device.cc:1934] Cannot dlopen some GPU libraries. Please make sure the missing libraries mentioned above are installed properly if you would like to use GPU. Follow the guide at https://www.tensorflow.org/install/gpu for how to download and setup the required libraries for your platform.\n",
      "Skipping registering GPU devices...\n",
      "Successfully created the TFRecords: /home/jupyter-vit_cse_bhargava/plastic-bottles-image-dataset/test.record\n"
     ]
    }
   ],
   "source": [
    "!python /home/jupyter-vit_cse_bhargava/plastic-bottles-image-dataset/1.py \\\n",
    "    --csv_input=/home/jupyter-vit_cse_bhargava/plastic-bottles-image-dataset/test.csv \\\n",
    "    --image_dir=/home/jupyter-vit_cse_bhargava/plastic-bottles-image-dataset/pbid/test/images/ \\\n",
    "    --output_path=/home/jupyter-vit_cse_bhargava/plastic-bottles-image-dataset/test.record"
   ]
  },
  {
   "cell_type": "code",
   "execution_count": 25,
   "metadata": {},
   "outputs": [
    {
     "name": "stdout",
     "output_type": "stream",
     "text": [
      "2023-04-20 16:37:02.878297: I tensorflow/core/platform/cpu_feature_guard.cc:193] This TensorFlow binary is optimized with oneAPI Deep Neural Network Library (oneDNN) to use the following CPU instructions in performance-critical operations:  AVX2 AVX512F FMA\n",
      "To enable them in other operations, rebuild TensorFlow with the appropriate compiler flags.\n",
      "2023-04-20 16:37:03.852200: W tensorflow/compiler/xla/stream_executor/platform/default/dso_loader.cc:64] Could not load dynamic library 'libnvinfer.so.7'; dlerror: libnvinfer.so.7: cannot open shared object file: No such file or directory\n",
      "2023-04-20 16:37:03.852285: W tensorflow/compiler/xla/stream_executor/platform/default/dso_loader.cc:64] Could not load dynamic library 'libnvinfer_plugin.so.7'; dlerror: libnvinfer_plugin.so.7: cannot open shared object file: No such file or directory\n",
      "2023-04-20 16:37:03.852297: W tensorflow/compiler/tf2tensorrt/utils/py_utils.cc:38] TF-TRT Warning: Cannot dlopen some TensorRT libraries. If you would like to use Nvidia GPU with TensorRT, please make sure the missing libraries mentioned above are installed properly.\n",
      "2023-04-20 16:37:04.682451: W tensorflow/compiler/xla/stream_executor/platform/default/dso_loader.cc:64] Could not load dynamic library 'libcudnn.so.8'; dlerror: libcudnn.so.8: cannot open shared object file: No such file or directory\n",
      "2023-04-20 16:37:04.682498: W tensorflow/core/common_runtime/gpu/gpu_device.cc:1934] Cannot dlopen some GPU libraries. Please make sure the missing libraries mentioned above are installed properly if you would like to use GPU. Follow the guide at https://www.tensorflow.org/install/gpu for how to download and setup the required libraries for your platform.\n",
      "Skipping registering GPU devices...\n",
      "Successfully created the TFRecords: /home/jupyter-vit_cse_bhargava/plastic-bottles-image-dataset/valid.record\n"
     ]
    }
   ],
   "source": [
    "!python /home/jupyter-vit_cse_bhargava/plastic-bottles-image-dataset/1.py \\\n",
    "    --csv_input=/home/jupyter-vit_cse_bhargava/plastic-bottles-image-dataset/valid.csv \\\n",
    "    --image_dir=/home/jupyter-vit_cse_bhargava/plastic-bottles-image-dataset/pbid/valid/images/ \\\n",
    "    --output_path=/home/jupyter-vit_cse_bhargava/plastic-bottles-image-dataset/valid.record"
   ]
  },
  {
   "cell_type": "code",
   "execution_count": null,
   "metadata": {},
   "outputs": [],
   "source": []
  }
 ],
 "metadata": {
  "kernelspec": {
   "display_name": "Python 3 (ipykernel)",
   "language": "python",
   "name": "python3"
  },
  "language_info": {
   "codemirror_mode": {
    "name": "ipython",
    "version": 3
   },
   "file_extension": ".py",
   "mimetype": "text/x-python",
   "name": "python",
   "nbconvert_exporter": "python",
   "pygments_lexer": "ipython3",
   "version": "3.9.7"
  }
 },
 "nbformat": 4,
 "nbformat_minor": 4
}
